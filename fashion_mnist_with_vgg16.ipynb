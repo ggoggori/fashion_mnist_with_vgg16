{
 "cells": [
  {
   "cell_type": "code",
   "execution_count": 1,
   "metadata": {
    "id": "Qr0iUX49WqjZ"
   },
   "outputs": [],
   "source": [
    "import tensorflow as tf\n",
    "import tensorflow.keras as keras\n",
    "import numpy as np\n",
    "from keras.applications import VGG16\n",
    "from keras import models\n",
    "from keras import layers\n",
    "from keras.preprocessing.image import ImageDataGenerator\n",
    "from keras.utils import to_categorical\n",
    "from keras.layers import *"
   ]
  },
  {
   "cell_type": "code",
   "execution_count": 2,
   "metadata": {
    "id": "6VqFqwQOWulf"
   },
   "outputs": [],
   "source": [
    "fashion_mnist = keras.datasets.fashion_mnist"
   ]
  },
  {
   "cell_type": "code",
   "execution_count": 3,
   "metadata": {
    "colab": {
     "base_uri": "https://localhost:8080/"
    },
    "id": "mRzMvmx3WySB",
    "outputId": "9d95b361-18ee-43e0-c647-b2ad6ed92540"
   },
   "outputs": [
    {
     "name": "stdout",
     "output_type": "stream",
     "text": [
      "Downloading data from https://storage.googleapis.com/tensorflow/tf-keras-datasets/train-labels-idx1-ubyte.gz\n",
      "32768/29515 [=================================] - 0s 0us/step\n",
      "Downloading data from https://storage.googleapis.com/tensorflow/tf-keras-datasets/train-images-idx3-ubyte.gz\n",
      "26427392/26421880 [==============================] - 0s 0us/step\n",
      "Downloading data from https://storage.googleapis.com/tensorflow/tf-keras-datasets/t10k-labels-idx1-ubyte.gz\n",
      "8192/5148 [===============================================] - 0s 0us/step\n",
      "Downloading data from https://storage.googleapis.com/tensorflow/tf-keras-datasets/t10k-images-idx3-ubyte.gz\n",
      "4423680/4422102 [==============================] - 0s 0us/step\n"
     ]
    }
   ],
   "source": [
    "(train_images, train_labels), (test_images, test_labels) = fashion_mnist.load_data()"
   ]
  },
  {
   "cell_type": "code",
   "execution_count": 4,
   "metadata": {
    "id": "QUSAmUfvCeVz"
   },
   "outputs": [],
   "source": [
    "train_labels = to_categorical(train_labels)\n",
    "test_labels = to_categorical(test_labels)"
   ]
  },
  {
   "cell_type": "code",
   "execution_count": 5,
   "metadata": {
    "id": "voIM4mHVWyOf"
   },
   "outputs": [],
   "source": [
    "train_images=np.reshape(train_images, (-1,28,28,1))\n",
    "test_images=np.reshape(test_images, (-1,28,28,1))"
   ]
  },
  {
   "cell_type": "code",
   "execution_count": 6,
   "metadata": {
    "id": "nqlu5pic247u"
   },
   "outputs": [],
   "source": [
    "train_images = Concatenate()([train_images,train_images,train_images])\n",
    "test_images = Concatenate()([test_images,test_images,test_images])"
   ]
  },
  {
   "cell_type": "code",
   "execution_count": 7,
   "metadata": {
    "colab": {
     "base_uri": "https://localhost:8080/"
    },
    "id": "2IvTRAWyWyLM",
    "outputId": "94044272-65b8-4cb7-e531-c96496e94205"
   },
   "outputs": [
    {
     "data": {
      "text/plain": [
       "TensorShape([60000, 28, 28, 3])"
      ]
     },
     "execution_count": 7,
     "metadata": {
      "tags": []
     },
     "output_type": "execute_result"
    }
   ],
   "source": [
    "train_images.shape"
   ]
  },
  {
   "cell_type": "code",
   "execution_count": 8,
   "metadata": {
    "id": "EJS51Sn_WyHi"
   },
   "outputs": [],
   "source": [
    "resized_train_images = tf.image.resize(train_images, (32,32))\n",
    "resized_test_images = tf.image.resize(test_images, (32,32))"
   ]
  },
  {
   "cell_type": "code",
   "execution_count": 9,
   "metadata": {
    "colab": {
     "base_uri": "https://localhost:8080/"
    },
    "id": "PeThkJmECs7P",
    "outputId": "9fd29429-fa95-4cc3-d176-d7810363df01"
   },
   "outputs": [
    {
     "data": {
      "text/plain": [
       "(TensorShape([60000, 32, 32, 3]), TensorShape([60000, 28, 28, 3]))"
      ]
     },
     "execution_count": 9,
     "metadata": {
      "tags": []
     },
     "output_type": "execute_result"
    }
   ],
   "source": [
    "resized_train_images.shape, train_images.shape"
   ]
  },
  {
   "cell_type": "code",
   "execution_count": 10,
   "metadata": {
    "id": "B2spkUclBfB0"
   },
   "outputs": [],
   "source": [
    "from keras.preprocessing.image import img_to_array\n",
    "train_X = np.asarray([img_to_array(im) for im in resized_train_images])\n",
    "test_X = np.asarray([img_to_array(im) for im in resized_test_images])"
   ]
  },
  {
   "cell_type": "code",
   "execution_count": 11,
   "metadata": {
    "id": "YgBU8kKWBf2G"
   },
   "outputs": [],
   "source": [
    "from sklearn.model_selection import train_test_split\n",
    "x_train,x_val,y_train,y_val = train_test_split(train_X,\n",
    "                                                           train_labels,\n",
    "                                                           test_size=0.2,\n",
    "                                                           random_state=13\n",
    "                                                           )"
   ]
  },
  {
   "cell_type": "code",
   "execution_count": 12,
   "metadata": {
    "id": "RQGG0HEihgjN"
   },
   "outputs": [],
   "source": [
    "\n",
    "\n",
    "# x_val = resized_train_images[50000:]\n",
    "# x_train = resized_train_images[:50000]\n",
    "\n",
    "# y_val = train_labels[50000:]\n",
    "# y_train = train_labels[:50000]\n",
    "\n"
   ]
  },
  {
   "cell_type": "code",
   "execution_count": 13,
   "metadata": {
    "id": "smo4jadFXyMY"
   },
   "outputs": [],
   "source": [
    "train_generator = ImageDataGenerator(\n",
    "      rescale=1./255,\n",
    "      rotation_range=20,\n",
    "      width_shift_range=0.2,\n",
    "      height_shift_range=0.2,\n",
    "      shear_range=0.2,\n",
    "      zoom_range=0.2,\n",
    "      horizontal_flip=True,\n",
    "      fill_mode='nearest'\n",
    ")\n",
    "\n",
    "test_generator = ImageDataGenerator(\n",
    "    rescale=1./255\n",
    ")"
   ]
  },
  {
   "cell_type": "code",
   "execution_count": 14,
   "metadata": {
    "id": "KnH_Rc5GquoV"
   },
   "outputs": [],
   "source": [
    "train_generator.fit(x_train)\n",
    "test_generator.fit(x_val)"
   ]
  },
  {
   "cell_type": "code",
   "execution_count": 15,
   "metadata": {
    "id": "ql7GceE9rUqm"
   },
   "outputs": [],
   "source": [
    "train_generator = train_generator.flow(x_train,y_train,batch_size=200)\n",
    "test_generator = test_generator.flow(x_val,y_val,batch_size=200)"
   ]
  },
  {
   "cell_type": "code",
   "execution_count": 16,
   "metadata": {
    "id": "luEcU-XMNMHG"
   },
   "outputs": [],
   "source": [
    "# original_dim = (32, 32, 3)\n",
    "# target_size = (64, 64)\n",
    "# input = keras.layers.Input(original_dim)\n",
    "# x = tf.keras.layers.Lambda(lambda image: tf.image.resize(image, target_size))(input)"
   ]
  },
  {
   "cell_type": "code",
   "execution_count": 17,
   "metadata": {
    "colab": {
     "base_uri": "https://localhost:8080/"
    },
    "id": "5Iq_9B6y1Spg",
    "outputId": "8b553076-a31d-4c8e-f81b-1e35254aac95"
   },
   "outputs": [
    {
     "data": {
      "text/plain": [
       "TensorShape([10000, 28, 28, 3])"
      ]
     },
     "execution_count": 17,
     "metadata": {
      "tags": []
     },
     "output_type": "execute_result"
    }
   ],
   "source": [
    "test_images.shape"
   ]
  },
  {
   "cell_type": "code",
   "execution_count": 18,
   "metadata": {
    "colab": {
     "base_uri": "https://localhost:8080/"
    },
    "id": "lyLqYt9Jsz4I",
    "outputId": "c5766ff7-e1e6-412c-f207-b88df90ae2f7"
   },
   "outputs": [
    {
     "name": "stdout",
     "output_type": "stream",
     "text": [
      "Downloading data from https://storage.googleapis.com/tensorflow/keras-applications/vgg16/vgg16_weights_tf_dim_ordering_tf_kernels_notop.h5\n",
      "58892288/58889256 [==============================] - 0s 0us/step\n"
     ]
    }
   ],
   "source": [
    "conv_base = VGG16(weights='imagenet',\n",
    "                  include_top=False,\n",
    "                  input_shape=(150, 150, 3))"
   ]
  },
  {
   "cell_type": "code",
   "execution_count": 19,
   "metadata": {
    "id": "m6tzwJ_us0_i"
   },
   "outputs": [],
   "source": [
    "# conv_base.trainable = False\n",
    "\n",
    "\n",
    "\n",
    "\n",
    "\n",
    "conv_base.trainable = True\n",
    "\n",
    "set_trainable = False\n",
    "for layer in conv_base.layers:\n",
    "    if layer.name == 'block3_conv1':\n",
    "        set_trainable = True\n",
    "    if set_trainable:\n",
    "        layer.trainable = True\n",
    "    else:\n",
    "        layer.trainable = False"
   ]
  },
  {
   "cell_type": "code",
   "execution_count": 20,
   "metadata": {
    "id": "Eu6T2rJVNvx-"
   },
   "outputs": [],
   "source": [
    "from keras import models\n",
    "from keras import layers\n",
    "\n",
    "\n",
    "original_dim = (32, 32, 3)\n",
    "target_size = (150, 150)\n",
    "\n",
    "\n",
    "model = models.Sequential()\n",
    "model.add(layers.Input(original_dim))\n",
    "model.add(layers.Lambda(lambda image: tf.image.resize(image, target_size)))\n",
    "model.add(conv_base)\n",
    "model.add(layers.Flatten())\n",
    "model.add(layers.Dropout(0.3))\n",
    "model.add(layers.Dense(256, activation='relu', kernel_initializer='he_uniform'))\n",
    "model.add(layers.Dense(128, activation='relu'))\n",
    "model.add(layers.Dense(10, activation='softmax'))\n"
   ]
  },
  {
   "cell_type": "code",
   "execution_count": 21,
   "metadata": {
    "colab": {
     "base_uri": "https://localhost:8080/"
    },
    "id": "3FbEGnAhXJQa",
    "outputId": "dd481a4f-2b52-4be0-e14d-aa85c089ff44"
   },
   "outputs": [
    {
     "name": "stdout",
     "output_type": "stream",
     "text": [
      "Model: \"sequential\"\n",
      "_________________________________________________________________\n",
      "Layer (type)                 Output Shape              Param #   \n",
      "=================================================================\n",
      "lambda (Lambda)              (None, 150, 150, 3)       0         \n",
      "_________________________________________________________________\n",
      "vgg16 (Functional)           (None, 4, 4, 512)         14714688  \n",
      "_________________________________________________________________\n",
      "flatten (Flatten)            (None, 8192)              0         \n",
      "_________________________________________________________________\n",
      "dropout (Dropout)            (None, 8192)              0         \n",
      "_________________________________________________________________\n",
      "dense (Dense)                (None, 256)               2097408   \n",
      "_________________________________________________________________\n",
      "dense_1 (Dense)              (None, 128)               32896     \n",
      "_________________________________________________________________\n",
      "dense_2 (Dense)              (None, 10)                1290      \n",
      "=================================================================\n",
      "Total params: 16,846,282\n",
      "Trainable params: 16,586,122\n",
      "Non-trainable params: 260,160\n",
      "_________________________________________________________________\n"
     ]
    }
   ],
   "source": [
    "model.summary()"
   ]
  },
  {
   "cell_type": "code",
   "execution_count": 22,
   "metadata": {
    "id": "jWvB9yl7rTWT"
   },
   "outputs": [],
   "source": [
    "# model.compile(loss='categorical_crossentropy',\n",
    "#               optimizer='rmsprop',\n",
    "#               metrics=['acc'])\n",
    "\n",
    "# history = model.fit_generator(\n",
    "#       train_generator.flow(x_train,y_train,batch_size=100),\n",
    "#       steps_per_epoch=500,\n",
    "#       epochs=100,\n",
    "#       validation_data=test_generator.flow(x_val,y_val,batch_size=100),\n",
    "#       validation_steps=20)"
   ]
  },
  {
   "cell_type": "code",
   "execution_count": 23,
   "metadata": {
    "colab": {
     "base_uri": "https://localhost:8080/"
    },
    "id": "080ireQyi9Jm",
    "outputId": "dbd488b5-ed76-4944-b390-fcf0aae31d89"
   },
   "outputs": [
    {
     "name": "stdout",
     "output_type": "stream",
     "text": [
      "Epoch 1/25\n",
      "240/240 [==============================] - ETA: 0s - loss: 0.9463 - acc: 0.6496\n",
      "Epoch 00001: val_loss improved from inf to 0.47533, saving model to best_weights.hdf5\n",
      "240/240 [==============================] - 207s 861ms/step - loss: 0.9463 - acc: 0.6496 - val_loss: 0.4753 - val_acc: 0.8133\n",
      "Epoch 2/25\n",
      "240/240 [==============================] - ETA: 0s - loss: 0.4925 - acc: 0.8173\n",
      "Epoch 00002: val_loss improved from 0.47533 to 0.37265, saving model to best_weights.hdf5\n",
      "240/240 [==============================] - 210s 873ms/step - loss: 0.4925 - acc: 0.8173 - val_loss: 0.3726 - val_acc: 0.8601\n",
      "Epoch 3/25\n",
      "240/240 [==============================] - ETA: 0s - loss: 0.3989 - acc: 0.8544\n",
      "Epoch 00003: val_loss improved from 0.37265 to 0.27913, saving model to best_weights.hdf5\n",
      "240/240 [==============================] - 209s 872ms/step - loss: 0.3989 - acc: 0.8544 - val_loss: 0.2791 - val_acc: 0.8973\n",
      "Epoch 4/25\n",
      "240/240 [==============================] - ETA: 0s - loss: 0.3531 - acc: 0.8695\n",
      "Epoch 00004: val_loss did not improve from 0.27913\n",
      "240/240 [==============================] - 209s 869ms/step - loss: 0.3531 - acc: 0.8695 - val_loss: 0.2869 - val_acc: 0.8946\n",
      "Epoch 5/25\n",
      "240/240 [==============================] - ETA: 0s - loss: 0.3252 - acc: 0.8810\n",
      "Epoch 00005: val_loss improved from 0.27913 to 0.24628, saving model to best_weights.hdf5\n",
      "240/240 [==============================] - 209s 871ms/step - loss: 0.3252 - acc: 0.8810 - val_loss: 0.2463 - val_acc: 0.9090\n",
      "Epoch 6/25\n",
      "240/240 [==============================] - ETA: 0s - loss: 0.3047 - acc: 0.8907\n",
      "Epoch 00006: val_loss did not improve from 0.24628\n",
      "240/240 [==============================] - 208s 868ms/step - loss: 0.3047 - acc: 0.8907 - val_loss: 0.2726 - val_acc: 0.9007\n",
      "Epoch 7/25\n",
      "240/240 [==============================] - ETA: 0s - loss: 0.2876 - acc: 0.8968\n",
      "Epoch 00007: val_loss improved from 0.24628 to 0.21825, saving model to best_weights.hdf5\n",
      "240/240 [==============================] - 209s 869ms/step - loss: 0.2876 - acc: 0.8968 - val_loss: 0.2182 - val_acc: 0.9197\n",
      "Epoch 8/25\n",
      "240/240 [==============================] - ETA: 0s - loss: 0.2714 - acc: 0.9019\n",
      "Epoch 00008: val_loss did not improve from 0.21825\n",
      "240/240 [==============================] - 208s 868ms/step - loss: 0.2714 - acc: 0.9019 - val_loss: 0.3354 - val_acc: 0.8758\n",
      "Epoch 9/25\n",
      "240/240 [==============================] - ETA: 0s - loss: 0.2665 - acc: 0.9036\n",
      "Epoch 00009: val_loss did not improve from 0.21825\n",
      "240/240 [==============================] - 208s 866ms/step - loss: 0.2665 - acc: 0.9036 - val_loss: 0.2220 - val_acc: 0.9228\n",
      "Epoch 10/25\n",
      "240/240 [==============================] - ETA: 0s - loss: 0.2541 - acc: 0.9069\n",
      "Epoch 00010: val_loss improved from 0.21825 to 0.21816, saving model to best_weights.hdf5\n",
      "240/240 [==============================] - 208s 866ms/step - loss: 0.2541 - acc: 0.9069 - val_loss: 0.2182 - val_acc: 0.9192\n",
      "Epoch 11/25\n",
      "240/240 [==============================] - ETA: 0s - loss: 0.2505 - acc: 0.9100\n",
      "Epoch 00011: val_loss improved from 0.21816 to 0.20602, saving model to best_weights.hdf5\n",
      "240/240 [==============================] - 208s 867ms/step - loss: 0.2505 - acc: 0.9100 - val_loss: 0.2060 - val_acc: 0.9262\n",
      "Epoch 12/25\n",
      "240/240 [==============================] - ETA: 0s - loss: 0.2391 - acc: 0.9145\n",
      "Epoch 00012: val_loss did not improve from 0.20602\n",
      "240/240 [==============================] - 208s 867ms/step - loss: 0.2391 - acc: 0.9145 - val_loss: 0.2180 - val_acc: 0.9239\n",
      "Epoch 13/25\n",
      "240/240 [==============================] - ETA: 0s - loss: 0.2339 - acc: 0.9149\n",
      "Epoch 00013: val_loss improved from 0.20602 to 0.19543, saving model to best_weights.hdf5\n",
      "240/240 [==============================] - 208s 866ms/step - loss: 0.2339 - acc: 0.9149 - val_loss: 0.1954 - val_acc: 0.9315\n",
      "Epoch 14/25\n",
      "240/240 [==============================] - ETA: 0s - loss: 0.2284 - acc: 0.9177\n",
      "Epoch 00014: val_loss did not improve from 0.19543\n",
      "240/240 [==============================] - 208s 865ms/step - loss: 0.2284 - acc: 0.9177 - val_loss: 0.2077 - val_acc: 0.9237\n",
      "Epoch 15/25\n",
      "240/240 [==============================] - ETA: 0s - loss: 0.2246 - acc: 0.9189\n",
      "Epoch 00015: val_loss did not improve from 0.19543\n",
      "240/240 [==============================] - 207s 864ms/step - loss: 0.2246 - acc: 0.9189 - val_loss: 0.2243 - val_acc: 0.9245\n",
      "Epoch 16/25\n",
      "240/240 [==============================] - ETA: 0s - loss: 0.2201 - acc: 0.9197\n",
      "Epoch 00016: val_loss did not improve from 0.19543\n",
      "240/240 [==============================] - 207s 864ms/step - loss: 0.2201 - acc: 0.9197 - val_loss: 0.2185 - val_acc: 0.9278\n",
      "Epoch 17/25\n",
      "240/240 [==============================] - ETA: 0s - loss: 0.2165 - acc: 0.9222\n",
      "Epoch 00017: val_loss improved from 0.19543 to 0.18604, saving model to best_weights.hdf5\n",
      "240/240 [==============================] - 208s 865ms/step - loss: 0.2165 - acc: 0.9222 - val_loss: 0.1860 - val_acc: 0.9327\n",
      "Epoch 18/25\n",
      "240/240 [==============================] - ETA: 0s - loss: 0.2118 - acc: 0.9245\n",
      "Epoch 00018: val_loss did not improve from 0.18604\n",
      "240/240 [==============================] - 207s 864ms/step - loss: 0.2118 - acc: 0.9245 - val_loss: 0.2051 - val_acc: 0.9248\n",
      "Epoch 19/25\n",
      "240/240 [==============================] - ETA: 0s - loss: 0.2077 - acc: 0.9276\n",
      "Epoch 00019: val_loss did not improve from 0.18604\n",
      "240/240 [==============================] - 207s 864ms/step - loss: 0.2077 - acc: 0.9276 - val_loss: 0.1964 - val_acc: 0.9311\n",
      "Epoch 20/25\n",
      "240/240 [==============================] - ETA: 0s - loss: 0.2065 - acc: 0.9243\n",
      "Epoch 00020: val_loss did not improve from 0.18604\n",
      "240/240 [==============================] - 207s 864ms/step - loss: 0.2065 - acc: 0.9243 - val_loss: 0.2030 - val_acc: 0.9298\n",
      "Epoch 21/25\n",
      "240/240 [==============================] - ETA: 0s - loss: 0.2040 - acc: 0.9276\n",
      "Epoch 00021: val_loss did not improve from 0.18604\n",
      "240/240 [==============================] - 207s 864ms/step - loss: 0.2040 - acc: 0.9276 - val_loss: 0.1980 - val_acc: 0.9322\n",
      "Epoch 22/25\n",
      "240/240 [==============================] - ETA: 0s - loss: 0.2064 - acc: 0.9261\n",
      "Epoch 00022: val_loss did not improve from 0.18604\n",
      "240/240 [==============================] - 207s 863ms/step - loss: 0.2064 - acc: 0.9261 - val_loss: 0.1881 - val_acc: 0.9364\n",
      "Epoch 23/25\n",
      "240/240 [==============================] - ETA: 0s - loss: 0.2024 - acc: 0.9273\n",
      "Epoch 00023: val_loss did not improve from 0.18604\n",
      "240/240 [==============================] - 207s 863ms/step - loss: 0.2024 - acc: 0.9273 - val_loss: 0.2346 - val_acc: 0.9314\n",
      "Epoch 24/25\n",
      "240/240 [==============================] - ETA: 0s - loss: 0.2072 - acc: 0.9270\n",
      "Epoch 00024: val_loss did not improve from 0.18604\n",
      "240/240 [==============================] - 207s 863ms/step - loss: 0.2072 - acc: 0.9270 - val_loss: 0.1932 - val_acc: 0.9333\n",
      "Epoch 25/25\n",
      "240/240 [==============================] - ETA: 0s - loss: 0.2073 - acc: 0.9287\n",
      "Epoch 00025: val_loss improved from 0.18604 to 0.17614, saving model to best_weights.hdf5\n",
      "240/240 [==============================] - 207s 863ms/step - loss: 0.2073 - acc: 0.9287 - val_loss: 0.1761 - val_acc: 0.9384\n"
     ]
    }
   ],
   "source": [
    "from keras.callbacks import ModelCheckpoint\n",
    "checkpointer = ModelCheckpoint(filepath='best_weights.hdf5',verbose=1, save_best_only= True)\n",
    "\n",
    "model.compile(loss='categorical_crossentropy',\n",
    "              optimizer=keras.optimizers.RMSprop(1e-4),\n",
    "              metrics=['acc'])\n",
    "\n",
    "history = model.fit(train_generator,\n",
    "                    epochs=25,\n",
    "                    steps_per_epoch=240,\n",
    "                    validation_data=test_generator,\n",
    "                    validation_steps=60,\n",
    "                    shuffle=True,\n",
    "                    callbacks=[checkpointer])"
   ]
  },
  {
   "cell_type": "code",
   "execution_count": 24,
   "metadata": {
    "colab": {
     "base_uri": "https://localhost:8080/",
     "height": 285
    },
    "id": "NBOn_Pb2UAV6",
    "outputId": "2b8773d4-b174-4746-a7dc-ec7a4ab498e0"
   },
   "outputs": [
    {
     "data": {
      "text/plain": [
       "<matplotlib.legend.Legend at 0x7f9b086ae3c8>"
      ]
     },
     "execution_count": 24,
     "metadata": {
      "tags": []
     },
     "output_type": "execute_result"
    },
    {
     "data": {
      "image/png": "[encoded data removed]",
      "text/plain": [
       "<Figure size 432x288 with 1 Axes>"
      ]
     },
     "metadata": {
      "needs_background": "light",
      "tags": []
     },
     "output_type": "display_data"
    }
   ],
   "source": [
    "import matplotlib.pyplot as plt\n",
    "\n",
    "plt.plot(history.history['acc'],label='acc')\n",
    "plt.plot(history.history['val_acc'],label='val_acc')\n",
    "plt.legend()"
   ]
  },
  {
   "cell_type": "code",
   "execution_count": 25,
   "metadata": {
    "colab": {
     "base_uri": "https://localhost:8080/",
     "height": 283
    },
    "id": "TKXZtebIUlBi",
    "outputId": "f4ae8e1b-c82b-4074-ca3c-7d2205dea497"
   },
   "outputs": [
    {
     "data": {
      "text/plain": [
       "<matplotlib.legend.Legend at 0x7f9b081849b0>"
      ]
     },
     "execution_count": 25,
     "metadata": {
      "tags": []
     },
     "output_type": "execute_result"
    },
    {
     "data": {
      "image/png": "[encoded data removed]",
      "text/plain": [
       "<Figure size 432x288 with 1 Axes>"
      ]
     },
     "metadata": {
      "needs_background": "light",
      "tags": []
     },
     "output_type": "display_data"
    }
   ],
   "source": [
    "plt.plot(history.history['loss'],label='loss')\n",
    "plt.plot(history.history['val_loss'],label='val_loss')\n",
    "plt.legend()"
   ]
  },
  {
   "cell_type": "code",
   "execution_count": 26,
   "metadata": {
    "id": "k7Q-0OhL3EQk"
   },
   "outputs": [],
   "source": [
    "test_images = tf.image.resize(test_images,(150,150))"
   ]
  },
  {
   "cell_type": "code",
   "execution_count": 27,
   "metadata": {
    "colab": {
     "base_uri": "https://localhost:8080/"
    },
    "id": "Gm8_0fj6UuX8",
    "outputId": "01e5b8c9-f29a-4319-e838-b41300b44359"
   },
   "outputs": [
    {
     "name": "stdout",
     "output_type": "stream",
     "text": [
      "WARNING:tensorflow:From <ipython-input-27-d3c4062a8f77>:12: Model.evaluate_generator (from tensorflow.python.keras.engine.training) is deprecated and will be removed in a future version.\n",
      "Instructions for updating:\n",
      "Please use Model.evaluate, which supports generators.\n",
      "test acc: 0.9154000282287598\n"
     ]
    }
   ],
   "source": [
    "test_generator = ImageDataGenerator(\n",
    "    rescale=1./255\n",
    ")\n",
    "\n",
    "test_generator.fit(test_images)\n",
    "\n",
    "test_generator = test_generator.flow(\n",
    "        test_images,\n",
    "        test_labels,\n",
    "        batch_size=200,)\n",
    "\n",
    "test_loss, test_acc = model.evaluate_generator(test_generator, steps=50)\n",
    "print('test acc:', test_acc)"
   ]
  },
  {
   "cell_type": "code",
   "execution_count": 28,
   "metadata": {
    "id": "k1tuYIAYWBQ4"
   },
   "outputs": [],
   "source": [
    "model = keras.models.load_model('best_weights.hdf5')"
   ]
  },
  {
   "cell_type": "code",
   "execution_count": 29,
   "metadata": {
    "colab": {
     "base_uri": "https://localhost:8080/"
    },
    "id": "N0M9pJ0b8bjQ",
    "outputId": "19501384-bd84-45e7-c9af-60e52f5bb08b"
   },
   "outputs": [
    {
     "name": "stdout",
     "output_type": "stream",
     "text": [
      "test acc: 0.9154000282287598\n"
     ]
    }
   ],
   "source": [
    "test_generator = ImageDataGenerator(\n",
    "    rescale=1./255\n",
    ")\n",
    "\n",
    "test_generator.fit(test_images)\n",
    "\n",
    "test_generator = test_generator.flow(\n",
    "        test_images,\n",
    "        test_labels,\n",
    "        batch_size=200,)\n",
    "\n",
    "test_loss, test_acc = model.evaluate_generator(test_generator, steps=50)\n",
    "print('test acc:', test_acc)"
   ]
  },
  {
   "cell_type": "code",
   "execution_count": 29,
   "metadata": {
    "id": "pXQSEJU8u9BF"
   },
   "outputs": [],
   "source": [
    " "
   ]
  },
  {
   "cell_type": "code",
   "execution_count": 29,
   "metadata": {
    "id": "6HIl8OnIWzot"
   },
   "outputs": [],
   "source": []
  }
 ],
 "metadata": {
  "accelerator": "GPU",
  "colab": {
   "collapsed_sections": [],
   "name": "딥러닝 과제2ipynb",
   "provenance": []
  },
  "kernelspec": {
   "display_name": "Python 3",
   "language": "python",
   "name": "python3"
  },
  "language_info": {
   "codemirror_mode": {
    "name": "ipython",
    "version": 3
   },
   "file_extension": ".py",
   "mimetype": "text/x-python",
   "name": "python",
   "nbconvert_exporter": "python",
   "pygments_lexer": "ipython3",
   "version": "3.7.7"
  }
 },
 "nbformat": 4,
 "nbformat_minor": 1
}
